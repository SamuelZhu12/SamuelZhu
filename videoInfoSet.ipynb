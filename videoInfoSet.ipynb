{
 "cells": [
  {
   "cell_type": "code",
   "execution_count": 1,
   "metadata": {},
   "outputs": [],
   "source": [
    "import pandas as pd\n",
    "import requests\n",
    "import json\n",
    "import time\n",
    "import random"
   ]
  },
  {
   "cell_type": "code",
   "execution_count": 2,
   "metadata": {},
   "outputs": [],
   "source": [
    "alphabet = 'fZodR9XQDSUm21yCkr6zBqiveYah8bt4xsWpHnJE7jL5VG3guMTKNPAwcF'\n",
    "def dec(x):#BV号转换成AV号\n",
    "    r = 0\n",
    "    for i, v in enumerate([11, 10, 3, 8, 4, 6]):\n",
    "        r += alphabet.find(x[v]) * 58**i\n",
    "    return (r - 0x2_0840_07c0) ^ 0x0a93_b324"
   ]
  },
  {
   "cell_type": "code",
   "execution_count": 5,
   "metadata": {},
   "outputs": [],
   "source": [
    "def get_Info(bvid):\n",
    "#     time.sleep(random.random()*2)\n",
    "    url = \"https://api.bilibili.com/x/web-interface/archive/stat?bvid=\"+str(bvid)\n",
    "    proxies = {'58.214.158.3:41106'}\n",
    "    headers = {\n",
    "            'User-Agent': 'Mozilla/5.0 (X11; Linux x86_64) AppleWebKit/537.36 (KHTML, like Gecko) Chrome/77.0.3865.120 Safari/537.36'\n",
    "            }\n",
    "    try:\n",
    "        response = requests.get(url ,timeout=30,headers = headers)\n",
    "    except BaseException:\n",
    "        print('request error')\n",
    "        pass\n",
    "    #从Json对象获取视频基本信息并转入词典中\n",
    "    text = response.text\n",
    "    jsonobj = json.loads(text)\n",
    "    if (str(jsonobj['data']) != 'None'):\n",
    "        video_dict = {'aid':jsonobj['data']['aid'],\n",
    "                 'bvid':jsonobj['data']['bvid'],\n",
    "                 'view':jsonobj['data']['view'],\n",
    "                 'danmuku_num':jsonobj['data']['danmaku'],\n",
    "                 'reply_num':jsonobj['data']['reply'],\n",
    "                 'favorite_num':jsonobj['data']['favorite'],\n",
    "                 'coin_num':jsonobj['data']['coin'],\n",
    "                 'share_num':jsonobj['data']['share'],\n",
    "                 'like_num':jsonobj['data']['like']\n",
    "                 }  \n",
    "        dataFrame = pd.DataFrame(video_dict,columns=['aid', 'bvid','view','danmuku_num','reply_num','favorite_num','coin_num','share_num','like_num'],index=[0])\n",
    "        dataFrame.to_csv(\"test2.csv\",mode = 'a',index=False,header = False)\n",
    "        print('已写入csv')\n",
    "    elif (str(jsonobj['code'] == '-412')):\n",
    "        print('请求被拦截！IP被封了!')\n",
    "        return\n",
    "        \n",
    "    else:\n",
    "        return"
   ]
  },
  {
   "cell_type": "code",
   "execution_count": null,
   "metadata": {},
   "outputs": [],
   "source": [
    "f = open('test1.csv',encoding='utf-8')\n",
    "videoInfo = pd.read_csv(f)\n",
    "a = videoInfo.iloc[ : ,0]\n",
    "videolist = a.values\n",
    "for i in range(3060,len(videolist)):\n",
    "    get_Info(videolist[i])\n",
    "    print('正在爬取第'+str(i)+'条视频的数据')\n",
    "print('爬取完毕')"
   ]
  },
  {
   "cell_type": "code",
   "execution_count": 15,
   "metadata": {},
   "outputs": [
    {
     "ename": "TypeError",
     "evalue": "parser_f() got an unexpected keyword argument 'index'",
     "output_type": "error",
     "traceback": [
      "\u001b[1;31m---------------------------------------------------------------------------\u001b[0m",
      "\u001b[1;31mTypeError\u001b[0m                                 Traceback (most recent call last)",
      "\u001b[1;32m<ipython-input-15-6539d649e976>\u001b[0m in \u001b[0;36m<module>\u001b[1;34m()\u001b[0m\n\u001b[1;32m----> 1\u001b[1;33m \u001b[0mdf\u001b[0m \u001b[1;33m=\u001b[0m \u001b[0mpd\u001b[0m\u001b[1;33m.\u001b[0m\u001b[0mread_csv\u001b[0m\u001b[1;33m(\u001b[0m\u001b[1;34m'test2.csv'\u001b[0m\u001b[1;33m,\u001b[0m \u001b[0mnames\u001b[0m\u001b[1;33m=\u001b[0m\u001b[1;33m[\u001b[0m\u001b[1;34m'aid'\u001b[0m\u001b[1;33m,\u001b[0m \u001b[1;34m'bvid'\u001b[0m\u001b[1;33m,\u001b[0m\u001b[1;34m'view'\u001b[0m\u001b[1;33m,\u001b[0m\u001b[1;34m'danmuku_num'\u001b[0m\u001b[1;33m,\u001b[0m\u001b[1;34m'reply_num'\u001b[0m\u001b[1;33m,\u001b[0m\u001b[1;34m'favorite_num'\u001b[0m\u001b[1;33m,\u001b[0m\u001b[1;34m'coin_num'\u001b[0m\u001b[1;33m,\u001b[0m\u001b[1;34m'share_num'\u001b[0m\u001b[1;33m,\u001b[0m\u001b[1;34m'like_num'\u001b[0m\u001b[1;33m]\u001b[0m\u001b[1;33m,\u001b[0m\u001b[0mindex\u001b[0m\u001b[1;33m=\u001b[0m\u001b[1;32mFalse\u001b[0m\u001b[1;33m)\u001b[0m\u001b[1;33m\u001b[0m\u001b[0m\n\u001b[0m\u001b[0;32m      2\u001b[0m \u001b[0mdf\u001b[0m\u001b[1;33m.\u001b[0m\u001b[0mto_csv\u001b[0m\u001b[1;33m(\u001b[0m\u001b[1;34m'test3.csv'\u001b[0m\u001b[1;33m)\u001b[0m\u001b[1;33m\u001b[0m\u001b[0m\n",
      "\u001b[1;31mTypeError\u001b[0m: parser_f() got an unexpected keyword argument 'index'"
     ]
    }
   ],
   "source": [
    "df = pd.read_csv('test2.csv', names=['aid', 'bvid','view','danmuku_num','reply_num','favorite_num','coin_num','share_num','like_num'],index=False)\n",
    "df.to_csv('test3.csv')"
   ]
  },
  {
   "cell_type": "code",
   "execution_count": null,
   "metadata": {},
   "outputs": [],
   "source": []
  },
  {
   "cell_type": "code",
   "execution_count": null,
   "metadata": {},
   "outputs": [],
   "source": []
  }
 ],
 "metadata": {
  "kernelspec": {
   "display_name": "Python 3",
   "language": "python",
   "name": "python3"
  },
  "language_info": {
   "codemirror_mode": {
    "name": "ipython",
    "version": 3
   },
   "file_extension": ".py",
   "mimetype": "text/x-python",
   "name": "python",
   "nbconvert_exporter": "python",
   "pygments_lexer": "ipython3",
   "version": "3.7.0"
  }
 },
 "nbformat": 4,
 "nbformat_minor": 2
}
